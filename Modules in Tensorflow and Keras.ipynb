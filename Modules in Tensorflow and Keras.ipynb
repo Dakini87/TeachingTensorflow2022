{
 "cells": [
  {
   "cell_type": "markdown",
   "id": "0b446fcc",
   "metadata": {},
   "source": [
    "# Modules, Layers, and Models\n",
    "\n",
    "How do the following differ in their functionality?\n",
    "- tf.Module\n",
    "- tf.keras.Layer\n",
    "- tf.keras.Model"
   ]
  },
  {
   "cell_type": "markdown",
   "id": "41491da5",
   "metadata": {},
   "source": [
    "## tf.Module\n",
    "\n",
    "The basic building block in Tensorflow to construct a neural network model is the [**Module**](https://www.tensorflow.org/api_docs/python/tf/Module). This is a low-level tensorflow class that itself does not provide all the functionality that comes with the high level abstraction library that is integrated into tensorflow: [Keras](keras.io). These higher level tools nevertheless build on the Module and only further extend its functionality.\n",
    "\n",
    "What does a module do?\n",
    "\n",
    "A neural network is both a **collection of computational operations on some inputs** and a **set of trainable or non-trainable parameters**. A module allows to organize this structure in a way that makes it **easy to access all variables** in a convenient way. To do so, we will use subclassing, creating a new class based on the base tf.Module class and inheriting its properties. \n",
    "\n",
    "It works like this:"
   ]
  },
  {
   "cell_type": "markdown",
   "id": "28aa6700",
   "metadata": {},
   "source": [
    "```python\n",
    "class MyNetwork(tf.Module):\n",
    "    def __init__(self, architecture_arguments, name=None):\n",
    "        super(MyNetwork, self).__init__(name=name)\n",
    "```\n"
   ]
  },
  {
   "cell_type": "markdown",
   "id": "5cd8e0d1",
   "metadata": {},
   "source": [
    "(Note how the name of the class and the first argument in super(..., self) have to match)\n",
    "\n",
    "Now we can start to add variables to the module in the constructor (init). To do so we can use **tf.Variable** like this, while specifying whether it should be flagged as trainable or not:"
   ]
  },
  {
   "cell_type": "markdown",
   "id": "a4c7645d",
   "metadata": {},
   "source": [
    "```python\n",
    "class MyNetwork(tf.Module):\n",
    "    def __init__(self, architecture_arguments=None, name=None):\n",
    "        super(MyNetwork, self).__init__(name=name)\n",
    "        \n",
    "        self.my_variable = tf.Variable([1.,1.5,1.2,3.], trainable=True)\n",
    "    \n",
    "```"
   ]
  },
  {
   "cell_type": "markdown",
   "id": "fa5f1539",
   "metadata": {},
   "source": [
    "Here the variable is a rank one tensor of shape (4). Now that we have a non-empty model class, we can see what makes this module structure useful. We can collect and access all stored variables at once by calling \"model.variables\" on the model.\n",
    "\n",
    "This makes updating variables (usually weights and biases) convenient, because variables can be contained in nested structures and sub-modules. We can also obtain only those variables flagged as trainable with \"model.trainable_variables\"."
   ]
  },
  {
   "cell_type": "code",
   "execution_count": 14,
   "id": "4695250e",
   "metadata": {},
   "outputs": [],
   "source": [
    "import tensorflow as tf\n",
    "\n",
    "# set a global seed for the random number generator to make results reproducible\n",
    "tf.random.set_seed(10)\n",
    "\n",
    "class MyNetwork(tf.Module):\n",
    "    def __init__(self, architecture_arguments=None, name=None):\n",
    "        super(MyNetwork, self).__init__(name=name)\n",
    "        \n",
    "        self.my_variable = tf.Variable([1.,1.5,1.2,3.], trainable=True)\n",
    "        \n",
    "        # any nested data structure containing tf.Variables works!\n",
    "        self.variable_dict = {\"A\": ([tf.Variable([3.,2.], trainable=False)]), \n",
    "                              \"B\": [[[[[tf.Variable([1.21])]]]]], \n",
    "                              \"C\": {\"B1\": tf.Variable([9.,2.])}}"
   ]
  },
  {
   "cell_type": "code",
   "execution_count": 15,
   "id": "e43e861c",
   "metadata": {},
   "outputs": [
    {
     "data": {
      "text/plain": [
       "(<tf.Variable 'Variable:0' shape=(4,) dtype=float32, numpy=array([1. , 1.5, 1.2, 3. ], dtype=float32)>,\n",
       " <tf.Variable 'Variable:0' shape=(2,) dtype=float32, numpy=array([3., 2.], dtype=float32)>,\n",
       " <tf.Variable 'Variable:0' shape=(1,) dtype=float32, numpy=array([1.21], dtype=float32)>,\n",
       " <tf.Variable 'Variable:0' shape=(2,) dtype=float32, numpy=array([9., 2.], dtype=float32)>)"
      ]
     },
     "execution_count": 15,
     "metadata": {},
     "output_type": "execute_result"
    }
   ],
   "source": [
    "model = MyNetwork()\n",
    "\n",
    "model.variables"
   ]
  },
  {
   "cell_type": "code",
   "execution_count": 5,
   "id": "a2e351b7",
   "metadata": {},
   "outputs": [
    {
     "data": {
      "text/plain": [
       "(<tf.Variable 'Variable:0' shape=(4,) dtype=float32, numpy=array([1. , 1.5, 1.2, 3. ], dtype=float32)>,\n",
       " <tf.Variable 'Variable:0' shape=(1,) dtype=float32, numpy=array([1.21], dtype=float32)>,\n",
       " <tf.Variable 'Variable:0' shape=(2,) dtype=float32, numpy=array([9., 2.], dtype=float32)>)"
      ]
     },
     "execution_count": 5,
     "metadata": {},
     "output_type": "execute_result"
    }
   ],
   "source": [
    "model.trainable_variables"
   ]
  },
  {
   "cell_type": "markdown",
   "id": "eead4dbc",
   "metadata": {},
   "source": [
    "By itself this model does not yet do anything with the variables. All the computational structure arises in a separate call method. There we specify how the inputs and the variables are used in a sequence of computations such that an output is produced. A simple call method could look like this:"
   ]
  },
  {
   "cell_type": "markdown",
   "id": "d3019a04",
   "metadata": {},
   "source": [
    "```python\n",
    "class MyNetwork(tf.Module):\n",
    "    def __init__(self, architecture_arguments=None, name=None):\n",
    "        super(MyNetwork, self).__init__(name=name)\n",
    "        \n",
    "        self.my_variable = tf.Variable([1.,1.5,1.2,3.], trainable=True)\n",
    "        \n",
    "    @tf.function    \n",
    "    def call(self, inputs, training=False):\n",
    "        \n",
    "        x = inputs @ tf.transpose(self.my_variable)\n",
    "        \n",
    "        return tf.nn.relu(x)\n",
    "        \n",
    "```\n",
    "\n",
    "Here we've set a standard \"training\" argument in the call method to default to False. This is because later on we will want the computations to differ between training and inference time.\n",
    "\n",
    "We have also used [**tf.function**](https://www.tensorflow.org/api_docs/python/tf/function) as a decorator. This makes the computations run on a graph which is more efficient.\n",
    "\n",
    "Let's test the model on randomly generated input:"
   ]
  },
  {
   "cell_type": "code",
   "execution_count": 16,
   "id": "50bada50",
   "metadata": {},
   "outputs": [],
   "source": [
    "class MyNetwork(tf.Module):\n",
    "    def __init__(self, architecture_arguments=None, name=None):\n",
    "        super(MyNetwork, self).__init__(name=name)\n",
    "\n",
    "        self.my_variable = tf.Variable([[1., 1.5, 1.2, 3.]], trainable=True)\n",
    "\n",
    "    @tf.function\n",
    "    def __call__(self, inputs, training=False):\n",
    "        \n",
    "        x = inputs @ tf.transpose(self.my_variable)\n",
    "\n",
    "        return tf.nn.relu(x)\n",
    "\n",
    "model = MyNetwork()"
   ]
  },
  {
   "cell_type": "code",
   "execution_count": 17,
   "id": "674280d1",
   "metadata": {},
   "outputs": [],
   "source": [
    "# a \"batch size\" of 1 example with 4 features\n",
    "input_data = tf.random.uniform((1,4)) \n",
    "\n",
    "out = model(input_data)"
   ]
  },
  {
   "cell_type": "markdown",
   "id": "93435bee",
   "metadata": {},
   "source": [
    "Any Module can encapsulate other modules and we can still directly access all variables, trainable or non_trainable in the same way. To see this, let's construct the same module except this time, the output shape should be the input shape."
   ]
  },
  {
   "cell_type": "code",
   "execution_count": 18,
   "id": "855ff66b",
   "metadata": {},
   "outputs": [
    {
     "data": {
      "text/plain": [
       "<tf.Tensor: shape=(1, 4), dtype=float32, numpy=array([[0., 0., 0., 0.]], dtype=float32)>"
      ]
     },
     "execution_count": 18,
     "metadata": {},
     "output_type": "execute_result"
    }
   ],
   "source": [
    "class MyModule(tf.Module):\n",
    "    def __init__(self, input_dim, output_dim, name=None):\n",
    "        super(MyModule, self).__init__(name=name)\n",
    "\n",
    "        self.my_variable = tf.Variable(tf.random.normal(shape=(input_dim, output_dim)), trainable=True, name=name)\n",
    "\n",
    "    @tf.function\n",
    "    def __call__(self, inputs, training=False):\n",
    "        \n",
    "        x = inputs @ self.my_variable\n",
    "\n",
    "        return tf.nn.relu(x)\n",
    "\n",
    "# keep input dimensionality for output\n",
    "model = MyModule(input_dim=4, output_dim=4)\n",
    "\n",
    "input_data = tf.random.uniform((1,4))\n",
    "\n",
    "# apply the model multiple times\n",
    "model(model(model(model(model(input_data)))))"
   ]
  },
  {
   "cell_type": "markdown",
   "id": "51c53958",
   "metadata": {},
   "source": [
    "We can now build a multi layer perceptron (without a bias)"
   ]
  },
  {
   "cell_type": "code",
   "execution_count": 19,
   "id": "2dd11a85",
   "metadata": {},
   "outputs": [],
   "source": [
    "class MyNetwork(tf.Module):\n",
    "    def __init__(self, input_dim, output_dim, name=None):\n",
    "        super(MyNetwork, self).__init__(name=name)\n",
    "        \n",
    "        self.submodule_1 = MyModule(input_dim = input_dim, output_dim = 10, name=\"layer1\")\n",
    "        self.submodule_2 = MyModule(input_dim = 10, output_dim = 20, name=\"layer2\")\n",
    "        self.submodule_3 = MyModule(input_dim = 20, output_dim = output_dim, name=\"layer3\")\n",
    "    \n",
    "    @tf.function\n",
    "    def __call__(self, inputs, training=False):\n",
    "        \n",
    "        x = self.submodule_1(inputs, training)\n",
    "        x = self.submodule_2(x, training)\n",
    "        output = self.submodule_3(x, training)\n",
    "        \n",
    "        return output"
   ]
  },
  {
   "cell_type": "markdown",
   "id": "f67217b3",
   "metadata": {},
   "source": [
    "Here we have passed down the training argument to the submodules in the call method. It does not yet do anything but we will need it for later. We also created the class in a way that allows to build different MLPs for different input and output sizes. Additionally, since it can become very difficult to know which variable belongs to which submodule, a convention is to give them **names**."
   ]
  },
  {
   "cell_type": "code",
   "execution_count": 20,
   "id": "db64c644",
   "metadata": {},
   "outputs": [
    {
     "data": {
      "text/plain": [
       "<tf.Tensor: shape=(1, 1), dtype=float32, numpy=array([[0.]], dtype=float32)>"
      ]
     },
     "execution_count": 20,
     "metadata": {},
     "output_type": "execute_result"
    }
   ],
   "source": [
    "kwargs = {\"input_dim\" : 4,\n",
    "          \"output_dim\": 1}\n",
    "\n",
    "model = MyNetwork(**kwargs)\n",
    "\n",
    "input_data = tf.random.uniform((1,4)) \n",
    "\n",
    "model(input_data)"
   ]
  },
  {
   "cell_type": "code",
   "execution_count": 25,
   "id": "6b2cef90",
   "metadata": {},
   "outputs": [
    {
     "data": {
      "text/plain": [
       "(<tf.Variable 'layer1:0' shape=(4, 10) dtype=float32, numpy=\n",
       " array([[ 0.87729114,  0.41897637, -0.24316262,  0.2901723 , -0.1255939 ,\n",
       "         -0.68703914, -1.1236811 , -0.14101666,  0.30755454, -0.05000789],\n",
       "        [-0.5280542 , -0.51565963, -0.7490014 , -1.4500126 , -0.9630939 ,\n",
       "         -0.71416146, -0.821151  ,  0.21876526, -0.3857906 , -1.0494992 ],\n",
       "        [ 0.46260792, -0.05498325, -0.15626055,  0.29248565, -0.67177397,\n",
       "         -0.04021434,  0.43569705,  0.2986166 , -0.01288076, -0.93552804],\n",
       "        [ 0.290241  , -1.2304499 , -2.523834  ,  0.07939063, -1.9911054 ,\n",
       "          1.3248711 , -1.5857776 ,  0.07402712, -1.8081028 ,  0.03566488]],\n",
       "       dtype=float32)>,\n",
       " <tf.Variable 'layer2:0' shape=(10, 20) dtype=float32, numpy=\n",
       " array([[ 1.7489128e+00, -1.5840185e-01,  1.5782036e+00, -7.1343131e-02,\n",
       "         -5.8534342e-01,  9.7036731e-01,  1.4690922e+00,  2.0140419e+00,\n",
       "         -1.6016023e+00,  1.4388433e+00, -6.5343457e-01, -1.5453838e+00,\n",
       "          1.7813025e+00,  1.8166555e+00,  1.6773829e+00,  6.3925463e-01,\n",
       "          1.3070441e+00,  9.0665525e-01,  1.1020734e+00, -1.6479681e-01],\n",
       "        [ 1.2442948e+00, -1.0951214e+00, -1.2089814e+00, -1.2822816e+00,\n",
       "         -1.2591456e-01,  1.0699053e+00,  1.7123779e+00,  5.8469790e-01,\n",
       "          3.3823961e-01,  1.7695653e+00,  3.1899625e-01, -2.0967135e+00,\n",
       "          7.6378942e-01,  1.3868703e+00,  7.2661930e-01, -8.9042485e-01,\n",
       "          1.2421255e+00, -4.3624562e-01,  6.4402872e-01, -2.2085121e+00],\n",
       "        [ 1.2078288e+00, -3.2293156e-01,  1.4156183e+00, -5.3443539e-01,\n",
       "         -4.1362470e-01, -1.6087376e+00, -3.4924555e-01,  8.1525946e-01,\n",
       "          3.7182689e-01,  9.0359859e-02, -1.2358795e+00, -3.7076434e-01,\n",
       "          4.6560049e-01, -1.7918398e+00,  1.0959698e+00, -2.9643369e-01,\n",
       "          1.1300806e-01,  7.5951797e-01,  1.6007183e-01, -7.3666292e-01],\n",
       "        [ 2.2712915e+00,  1.7036149e-01, -1.5437614e+00, -6.0989237e-01,\n",
       "          1.3109140e-01,  5.2529883e-01,  1.0335523e-01,  3.6234808e-01,\n",
       "         -1.2673373e+00, -8.9961582e-01,  8.7053633e-01, -1.0690463e+00,\n",
       "          1.3644435e-01, -6.9607168e-01,  2.0459700e-01,  1.1384565e-02,\n",
       "         -1.4597416e+00,  1.1526238e+00, -1.4346875e+00, -1.2753568e+00],\n",
       "        [-7.8293264e-01, -2.9938012e-01,  2.1732984e+00,  1.3370595e+00,\n",
       "          7.9054552e-01, -1.8309180e+00,  8.4348512e-01,  1.0444614e+00,\n",
       "         -4.6928903e-01, -2.3960999e-01,  1.3628262e+00,  5.1900238e-01,\n",
       "         -5.0368094e-01, -8.9708024e-01,  9.1936402e-02, -5.9003991e-01,\n",
       "          2.0808510e-01,  2.2459245e-01,  2.1481907e-01,  1.3069704e+00],\n",
       "        [-7.4089801e-01, -5.2463549e-01, -3.3669904e-02,  2.9216561e-01,\n",
       "          1.6270831e-01,  3.6204740e-01, -3.5075569e-01,  1.9963502e+00,\n",
       "         -1.2429928e+00, -1.7663263e-01, -1.9900343e-01, -5.0517654e-01,\n",
       "         -1.0353488e-01,  3.7149437e-02, -3.3351380e-01,  2.0268533e-02,\n",
       "          2.0965993e+00, -5.7140845e-01, -6.1898917e-01, -1.3805670e+00],\n",
       "        [ 1.9664937e+00, -2.4933715e-01, -5.2112854e-01,  1.3993242e-01,\n",
       "         -2.1176238e+00, -1.1323400e+00, -1.6579534e+00, -1.3364663e+00,\n",
       "         -1.7025843e+00,  1.0902374e+00, -2.1680523e-02, -2.2933455e+00,\n",
       "          7.1598738e-01, -5.4767787e-01,  6.0001493e-01,  1.6060178e+00,\n",
       "          7.5097764e-01, -5.0973189e-01, -7.4729091e-01, -3.2016477e-01],\n",
       "        [ 1.4156042e+00, -7.1276939e-01, -2.0639668e+00,  1.3278826e+00,\n",
       "          6.0800892e-01,  2.3739381e+00, -1.5112916e-01,  1.6758105e+00,\n",
       "         -1.6103963e+00, -6.8039507e-01, -1.5769922e+00,  7.4745938e-02,\n",
       "          8.2325023e-01,  2.0579183e+00, -4.7325826e-01,  4.7874209e-02,\n",
       "          1.3637891e+00, -2.9072988e-01, -7.0103830e-01, -3.4609252e-01],\n",
       "        [-3.0506828e-01,  1.5933748e+00, -1.0710688e+00,  6.1903346e-02,\n",
       "         -4.3120903e-01,  2.0251370e-03, -6.4595532e-01, -7.5587648e-01,\n",
       "         -1.4032639e+00,  4.7404790e-01, -1.7417806e+00,  6.1700535e-01,\n",
       "          6.1134577e-01, -1.3152202e+00,  1.0878372e+00, -1.5119330e+00,\n",
       "          3.8107198e-01, -5.3449714e-01,  1.0341951e+00, -1.4265323e+00],\n",
       "        [ 1.1367168e+00,  2.4739514e-01, -1.5980004e+00,  5.8899707e-01,\n",
       "          2.0243390e-01,  1.8298107e-01, -5.7521898e-01,  4.4836533e-01,\n",
       "          2.1814342e-01, -5.4991245e-01, -1.1863375e+00,  1.0643219e+00,\n",
       "         -5.7736403e-01, -2.4599791e-01,  5.4224610e-01,  3.2725251e-01,\n",
       "         -3.8309377e-01,  1.4184415e+00,  1.4785641e-01, -1.1598064e+00]],\n",
       "       dtype=float32)>,\n",
       " <tf.Variable 'layer3:0' shape=(20, 1) dtype=float32, numpy=\n",
       " array([[-1.3814261 ],\n",
       "        [-0.28577265],\n",
       "        [-0.08086437],\n",
       "        [-1.219355  ],\n",
       "        [-0.12781765],\n",
       "        [ 2.6239753 ],\n",
       "        [-0.40201288],\n",
       "        [-1.5239245 ],\n",
       "        [ 0.64417946],\n",
       "        [-0.93616796],\n",
       "        [ 0.23226194],\n",
       "        [-0.9068594 ],\n",
       "        [-2.469403  ],\n",
       "        [ 0.21295066],\n",
       "        [-0.56300485],\n",
       "        [ 0.28311554],\n",
       "        [ 1.4276128 ],\n",
       "        [-0.5496729 ],\n",
       "        [ 0.24128596],\n",
       "        [ 0.36534223]], dtype=float32)>)"
      ]
     },
     "execution_count": 25,
     "metadata": {},
     "output_type": "execute_result"
    }
   ],
   "source": [
    "model.trainable_variables"
   ]
  },
  {
   "cell_type": "markdown",
   "id": "6971103a",
   "metadata": {},
   "source": [
    "One last feature that comes with the tf.Module class is to use a naming context manager that will automatically tag all variables with the same module name, making it easier for modules with multiple variable tensors. It can be used as follows:"
   ]
  },
  {
   "cell_type": "code",
   "execution_count": 26,
   "id": "444eb8aa",
   "metadata": {},
   "outputs": [
    {
     "data": {
      "text/plain": [
       "(<tf.Variable 'dense_layer/bias:0' shape=(1, 1) dtype=float32, numpy=array([[0.]], dtype=float32)>,\n",
       " <tf.Variable 'dense_layer/weights:0' shape=(4, 1) dtype=float32, numpy=\n",
       " array([[ 1.0520203 ],\n",
       "        [ 1.1129149 ],\n",
       "        [-0.26500216],\n",
       "        [ 0.414369  ]], dtype=float32)>)"
      ]
     },
     "execution_count": 26,
     "metadata": {},
     "output_type": "execute_result"
    }
   ],
   "source": [
    "class MyModule(tf.Module):\n",
    "    def __init__(self, input_dim, output_dim, name=None):\n",
    "        super(MyModule, self).__init__(name=name)\n",
    "        \n",
    "        if not name:\n",
    "            name=\"noname_module\"\n",
    "            \n",
    "        with tf.name_scope(name) as scope:\n",
    "\n",
    "            self.weights = tf.Variable(tf.random.normal(shape=(input_dim, output_dim)), trainable=True, \n",
    "                                           name=\"weights\")\n",
    "            self.bias = tf.Variable(tf.zeros(shape=(1,output_dim)), trainable=True,\n",
    "                                    name=\"bias\")\n",
    "\n",
    "    @tf.function\n",
    "    def __call__(self, inputs, training=False):\n",
    "        \n",
    "        x = inputs @ self.my_variable + self.bias\n",
    "\n",
    "        return tf.nn.relu(x)\n",
    "    \n",
    "dense = MyModule(input_dim=4, output_dim=1, name=\"dense_layer\")\n",
    "\n",
    "dense.trainable_variables"
   ]
  },
  {
   "cell_type": "markdown",
   "id": "37438ff9",
   "metadata": {},
   "source": [
    "By subclassing the tf.Module class and building your own submodules, you can build any neural network architecture that you like. There is no _need_ to use predefined Keras layers or the Model class since these only provide extra functionality on top of what tf.Module provides.\n",
    "\n"
   ]
  },
  {
   "cell_type": "markdown",
   "id": "b0c14978",
   "metadata": {},
   "source": [
    "# The Layer Class\n",
    "\n",
    "The tf.keras.layers.Layer base class inherits from tf.Module but extends its functionality in several ways.\n",
    "\n",
    "Perhaps the most important extension is a separate [**build method**](https://www.tensorflow.org/guide/intro_to_modules#keras_models_and_layers) which allows to keep a module and its variables agnostic to the input shape until it is first called on a specific input. This means that the constructor no longer instantiates the variables but only the general structure of the module (e.g. which submodules are part of it)."
   ]
  },
  {
   "cell_type": "code",
   "execution_count": 30,
   "id": "ce17d2fa",
   "metadata": {},
   "outputs": [
    {
     "name": "stdout",
     "output_type": "stream",
     "text": [
      "dense_layer variables:[]\n"
     ]
    },
    {
     "data": {
      "text/plain": [
       "<tf.Tensor: shape=(32, 10), dtype=float32, numpy=\n",
       "array([[0.18321572, 1.3193291 , 1.3057417 , 3.2244456 , 0.        ,\n",
       "        0.        , 2.2579048 , 0.        , 0.        , 0.        ],\n",
       "       [0.        , 0.        , 0.        , 3.1068387 , 0.        ,\n",
       "        1.3066876 , 2.1439378 , 0.07591012, 0.        , 0.07523284],\n",
       "       [0.        , 0.6226041 , 1.1977816 , 2.3551884 , 0.        ,\n",
       "        0.5732926 , 4.6305394 , 0.5391719 , 0.8580375 , 0.        ],\n",
       "       [0.        , 3.079039  , 0.27029002, 1.8903698 , 0.        ,\n",
       "        0.41354036, 2.8257067 , 0.        , 0.        , 0.20565991],\n",
       "       [0.        , 1.3650173 , 1.5244049 , 2.3206666 , 0.        ,\n",
       "        0.        , 4.4351864 , 1.0831312 , 2.1716063 , 1.7926269 ],\n",
       "       [0.05014885, 1.7360629 , 0.83236206, 3.924715  , 0.        ,\n",
       "        0.        , 2.3119638 , 0.33340466, 1.4798453 , 0.        ],\n",
       "       [0.        , 1.5276564 , 0.5468204 , 3.0881026 , 0.        ,\n",
       "        0.29247802, 3.1736622 , 0.        , 0.        , 0.        ],\n",
       "       [0.        , 1.2169105 , 0.54535544, 4.8686466 , 0.        ,\n",
       "        0.        , 2.5634189 , 1.0790045 , 1.757656  , 0.4665128 ],\n",
       "       [0.        , 0.6785505 , 2.081477  , 2.9712145 , 0.        ,\n",
       "        0.27514106, 3.3519623 , 0.07163685, 0.903716  , 0.        ],\n",
       "       [0.        , 0.        , 0.6100773 , 4.2638636 , 0.        ,\n",
       "        3.381814  , 4.3837104 , 2.7233562 , 1.3419702 , 4.164381  ],\n",
       "       [0.        , 1.9615649 , 0.        , 4.7666802 , 0.        ,\n",
       "        1.100908  , 4.1683974 , 0.997563  , 1.6647552 , 0.8366265 ],\n",
       "       [0.        , 2.1876287 , 0.22213168, 5.330367  , 0.        ,\n",
       "        1.0424246 , 3.9432583 , 0.09306756, 0.        , 0.5739857 ],\n",
       "       [0.        , 0.        , 0.7093587 , 3.2605114 , 0.        ,\n",
       "        1.8747499 , 3.9428496 , 1.8082995 , 1.8236716 , 4.1024103 ],\n",
       "       [0.        , 0.        , 1.1847297 , 5.4784822 , 0.        ,\n",
       "        0.5217118 , 3.7175114 , 0.35123765, 0.16961844, 1.9865807 ],\n",
       "       [0.        , 0.        , 0.84288305, 4.033643  , 0.        ,\n",
       "        3.2438915 , 3.8153672 , 2.6126337 , 1.3097684 , 3.794828  ],\n",
       "       [0.        , 0.28509393, 1.4165494 , 5.045328  , 0.        ,\n",
       "        1.2963587 , 5.3805685 , 2.1780396 , 1.9501513 , 2.3197234 ],\n",
       "       [0.        , 1.8527699 , 0.31754115, 2.5287476 , 0.        ,\n",
       "        1.645955  , 3.471317  , 0.5518852 , 0.84082025, 0.17548136],\n",
       "       [0.        , 0.95723677, 0.        , 4.794688  , 0.        ,\n",
       "        0.84582955, 3.285512  , 2.3823242 , 2.2585387 , 0.11542583],\n",
       "       [0.        , 0.4036764 , 0.        , 2.6900237 , 0.        ,\n",
       "        0.        , 2.5001595 , 0.        , 0.        , 1.7506386 ],\n",
       "       [0.        , 1.0314587 , 0.99868023, 3.7408783 , 0.        ,\n",
       "        0.25424516, 2.9915192 , 0.        , 0.16384766, 0.        ],\n",
       "       [0.        , 0.        , 0.37385064, 4.460508  , 0.        ,\n",
       "        0.5301632 , 1.8199819 , 0.36173236, 0.        , 0.61894333],\n",
       "       [0.        , 0.        , 0.        , 3.722205  , 0.        ,\n",
       "        2.0550897 , 3.3516457 , 0.        , 0.        , 1.4946132 ],\n",
       "       [0.        , 2.3111677 , 0.        , 3.7065485 , 0.        ,\n",
       "        0.        , 2.825229  , 1.2263638 , 2.580921  , 0.3856028 ],\n",
       "       [0.        , 0.6168281 , 0.30315793, 5.0998363 , 0.        ,\n",
       "        1.4258177 , 2.1693103 , 0.        , 0.        , 0.9465886 ],\n",
       "       [0.        , 2.181278  , 0.        , 2.4131336 , 0.        ,\n",
       "        2.0107193 , 3.035461  , 0.        , 0.        , 0.        ],\n",
       "       [0.        , 3.0974898 , 0.2791911 , 2.9713397 , 0.        ,\n",
       "        0.8657708 , 3.3605056 , 0.        , 0.8509264 , 0.        ],\n",
       "       [0.        , 0.92443144, 0.        , 3.661139  , 0.        ,\n",
       "        1.1518642 , 4.052172  , 0.77243954, 1.6411443 , 1.1267474 ],\n",
       "       [0.        , 1.1525198 , 0.        , 1.6620529 , 0.        ,\n",
       "        1.5988268 , 2.873349  , 0.20397545, 0.5702908 , 1.4513155 ],\n",
       "       [0.        , 1.7434351 , 1.868316  , 3.5111873 , 0.        ,\n",
       "        0.23149216, 3.0739222 , 0.        , 0.        , 0.        ],\n",
       "       [0.        , 0.5363682 , 1.1952066 , 3.8646443 , 0.        ,\n",
       "        0.44315612, 2.4048944 , 0.61602575, 0.18480727, 1.344494  ],\n",
       "       [0.        , 2.0958467 , 0.6307486 , 4.1282587 , 0.        ,\n",
       "        0.61060834, 4.758044  , 1.8618307 , 2.1803164 , 1.0674665 ],\n",
       "       [0.25965357, 1.3639855 , 2.1424608 , 3.05513   , 0.        ,\n",
       "        0.        , 4.186093  , 0.        , 0.06330857, 0.9765382 ]],\n",
       "      dtype=float32)>"
      ]
     },
     "execution_count": 30,
     "metadata": {},
     "output_type": "execute_result"
    }
   ],
   "source": [
    "class Dense(tf.keras.layers.Layer):\n",
    "    def __init__(self, n_units, activation_function, **kwargs):\n",
    "        super(Dense, self).__init__(**kwargs)\n",
    "        # no variables created\n",
    "        self.n_units = n_units\n",
    "        self.activation_function = activation_function\n",
    "        \n",
    "    def build(self, input_shape):\n",
    "        self.w = tf.Variable(tf.random.normal([input_shape[-1], self.n_units]), name='weights')\n",
    "        self.b = tf.Variable(tf.zeros([self.n_units]), name='bias')\n",
    "\n",
    "    def call(self, inputs):\n",
    "        x = inputs @ self.w + self.b\n",
    "        return self.activation_function(x)\n",
    "\n",
    "# instantiate the layer\n",
    "dense_layer = Dense(n_units=10, activation_function=tf.nn.relu)\n",
    "\n",
    "# it has no variables\n",
    "print(f\"dense_layer variables:{dense_layer.variables}\")\n",
    "\n",
    "# call it on an input to create weights suitable for this input\n",
    "dense_layer(tf.random.uniform(shape=(32,16)))\n"
   ]
  },
  {
   "cell_type": "markdown",
   "id": "fecf9d31",
   "metadata": {},
   "source": [
    "Besides the build method, keras layers come with a number of extra functionality that we will explore later in the course:\n",
    "\n",
    "- adding and collecting regularization losses\n",
    "- metrics and bookkeeping\n",
    "- handling masking and training arguments\n",
    "- access submodules in a structured way\n"
   ]
  },
  {
   "cell_type": "markdown",
   "id": "483cc6ce",
   "metadata": {},
   "source": [
    "# The Model Class\n",
    "\n",
    "The Keras Model class is a very useful tool that inherits from the Layer class but adds even more functionality to it for much more convenient use, which is great for standard applications.\n",
    "\n",
    "It allows to:\n",
    "\n",
    "- Use a fit method to do the training\n",
    "- compile the model with metrics, a loss and an optimizer\n",
    "- Save the model's weights\n",
    "- Pre-defined methods for inference and for evaluation\n",
    "- Models can also be submodules of further modules.\n",
    "- Access all layers in the model.\n",
    "- Contain optimizer and training logic within the model\n",
    "- Contain training and validation metrics within the model\n",
    "- Additionally we can create models without subclassing with the [Functional API](https://www.tensorflow.org/guide/keras/functional?hl=en)\n",
    "\n",
    "In short: You can have everything you need for training in one object (except for the data itself) and make many routine things faster."
   ]
  },
  {
   "cell_type": "markdown",
   "id": "2ca92bf1",
   "metadata": {},
   "source": [
    "# Why use the low level features of tensorflow if you have the convenient tools that Keras comes with?\n",
    "\n",
    "It seems very convenient to just use the high level Model class and reduce deep learning to a few lines of code and a call to model.fit(). While this is certainly true, it is very important to know what is going on at a lower level such that you can implement non-standard applications. \n",
    "\n",
    "Keras is developed in a way that allows many of these things by tightly integrating the high level features with low level control. For instance you can write a custom tf.Module and use it as a submodule in a tf.keras.layers.Layer or tf.keras.Model. You could even use a model that you have written at a very low level and encapsulate it in the Model class to obtain convenient training and evaluation methods.\n",
    "\n",
    "Since you will not need most of the functionality provided by the layer and model classes, you will learn the most by restricting yourself to the tf.Module class. You can still include Keras layers such as the Dense layer or the Conv2D layer within your tf.Module model.\n",
    "\n",
    "Focusing on the tf.Module class (or at least restricting your use of the keras model class to its functionalities) at first also allows you to understand code in other frameworks such as [PyTorch](https://pytorch.org/) which do not have the layer and model abstractions. For instance, in PyTorch you are required to always specify input and output dimensions on your layers explicitly. When using Keras Layers, this is automatically inferred in the build method. This can lead to more confusion when required to fix non-matching shapes in a model because you become reliant on Keras determining the required dimensions of variables.\n",
    "\n",
    "For this reason, having some experience without the nice tools that Keras provides will equip you with the right perspective for when you will be working with much more advanced models in the future and need to debug them.\n",
    "\n",
    "\n",
    "**TL;DR: Keras is great and we love it but you need to work with the low level features to learn how to debug complex models (important for your projects).**"
   ]
  }
 ],
 "metadata": {
  "kernelspec": {
   "display_name": "Python 3.10.6 ('tensorflow')",
   "language": "python",
   "name": "python3"
  },
  "language_info": {
   "codemirror_mode": {
    "name": "ipython",
    "version": 3
   },
   "file_extension": ".py",
   "mimetype": "text/x-python",
   "name": "python",
   "nbconvert_exporter": "python",
   "pygments_lexer": "ipython3",
   "version": "3.10.6"
  },
  "vscode": {
   "interpreter": {
    "hash": "1742af970aca8683fc5e6b8dfb9ba2e6067f07191fcd7a603eb54747ed1bd506"
   }
  }
 },
 "nbformat": 4,
 "nbformat_minor": 5
}
