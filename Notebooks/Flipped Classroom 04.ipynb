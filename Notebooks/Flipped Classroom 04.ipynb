{
 "cells": [
  {
   "cell_type": "markdown",
   "metadata": {},
   "source": [
    "# Flipped Classroom 04: Training a Twin Model on MNIST "
   ]
  },
  {
   "cell_type": "code",
   "execution_count": null,
   "metadata": {},
   "outputs": [],
   "source": [
    "import tensorflow as tf\n",
    "import tensorflow_datasets as tfds\n",
    "import datetime\n",
    "\n",
    "%load_ext tensorboard"
   ]
  },
  {
   "cell_type": "markdown",
   "metadata": {},
   "source": [
    "## Creating a dataset\n",
    "\n",
    "**Task: take two random mnist digit 28x28x1 images and compute the sum of the numbers that they display.**\n",
    "\n"
   ]
  },
  {
   "cell_type": "code",
   "execution_count": null,
   "metadata": {},
   "outputs": [],
   "source": [
    "# 1. get mnist from tensorflow_datasets\n",
    "\n",
    "\n",
    "\n",
    "# 2. preprocess the data using the map method, what else do we need?\n",
    "\n",
    "\n",
    "# 3. find a way to have two images in each example!\n",
    "\n",
    "\n",
    "# 4. create the labels for both images\n",
    "\n",
    "\n",
    "# 4. finish the data pipeline\n",
    "\n",
    "\n",
    "# 5. check the contents of the data generator"
   ]
  },
  {
   "cell_type": "markdown",
   "metadata": {},
   "source": [
    "## Create a model for the task\n",
    "\n",
    "- The two images should be processed using the same parameters (sometimes called a siamese or twin model)\n",
    "\n",
    "- What do we need?"
   ]
  },
  {
   "cell_type": "code",
   "execution_count": null,
   "metadata": {},
   "outputs": [],
   "source": [
    "class TwinMNISTModel(...):\n",
    "\n",
    "    # 1. constructor\n",
    "    def ...\n",
    "        # inherit functionality from parent class\n",
    "\n",
    "        # optimizer, loss function and metrics\n",
    "\n",
    "        # layers to be used\n",
    "\n",
    "\n",
    "    # 2. call method (forward computation)\n",
    "    def ...\n",
    "    \n",
    "\n",
    "\n",
    "\n",
    "    # 3. metrics property\n",
    "    def ...\n",
    "        # return a list with all metrics in the model\n",
    "\n",
    "\n",
    "\n",
    "    # 4. reset all metrics objects\n",
    "    def ...\n",
    "\n",
    "\n",
    "\n",
    "    # 5. train step method\n",
    "    def ...\n",
    "\n",
    "\n",
    "        # update the state of the metrics according to loss\n",
    "        # return a dictionary with metric names as keys and metric results as values\n",
    "\n",
    "\n",
    "\n",
    "\n",
    "\n",
    "    # 6. test_step method\n",
    "    def ...\n",
    "        # same as train step (without parameter updates)\n",
    "\n",
    "\n",
    "\n",
    "\n"
   ]
  },
  {
   "cell_type": "markdown",
   "metadata": {},
   "source": [
    "## Create a summary writer to log data\n",
    "\n",
    "- use tf.summary.create_file_writer(log_path)"
   ]
  },
  {
   "cell_type": "code",
   "execution_count": null,
   "metadata": {},
   "outputs": [],
   "source": [
    "current_time = datetime.datetime.now().strftime(\"%Y%m%d-%H%M%S\")\n",
    "\n",
    "train_log_path = f\"logs/\"\n",
    "\n",
    "val_log_path = f\"logs/\"\n",
    "\n",
    "train_summary_writer = ...\n",
    "\n",
    "val_summary_writer = ..."
   ]
  },
  {
   "cell_type": "markdown",
   "metadata": {},
   "source": [
    "## Write a training loop function\n",
    "\n",
    "Arguments: \n",
    " - the model to train, \n",
    " - the data to train on, \n",
    " - the data to test on, \n",
    " - how many epochs to train, \n",
    " - the train summary writer object to use for logging\n",
    " - the validation summary writer object to use for logging\n",
    " - a path to save trained model weights to"
   ]
  },
  {
   "cell_type": "code",
   "execution_count": null,
   "metadata": {},
   "outputs": [],
   "source": [
    "def training_loop(...):\n",
    "\n",
    "    # 1. iterate over epochs\n",
    "\n",
    "\n",
    "        # 2. train steps on all batches in the training data\n",
    "\n",
    "\n",
    "\n",
    "        # 3. log and print training metrics\n",
    "\n",
    "        with train_summary_writer.as_default():\n",
    "            ...\n",
    "\n",
    "\n",
    "\n",
    "        # 4. reset metric objects\n",
    "\n",
    "\n",
    "\n",
    "        # 5. evaluate on validation data\n",
    "\n",
    "\n",
    "\n",
    "        # 6. log validation metrics\n",
    "\n",
    "        with val_summary_writer.as_default():\n",
    "            ...\n",
    "\n",
    "        # 7. reset metric objects\n",
    "\n",
    "\n",
    "    # 8. save model weights\n"
   ]
  },
  {
   "cell_type": "markdown",
   "metadata": {},
   "source": [
    "## Use the training loop function to train the model"
   ]
  },
  {
   "cell_type": "code",
   "execution_count": null,
   "metadata": {},
   "outputs": [],
   "source": [
    "# open the tensorboard logs\n",
    "%tensorboard --logdir logs/"
   ]
  },
  {
   "cell_type": "code",
   "execution_count": null,
   "metadata": {},
   "outputs": [],
   "source": [
    "# 1. instantiate model\n",
    "\n",
    "# 2. choose a path to save the weights\n",
    "\n",
    "save_path = ...\n",
    "\n",
    "# 2. pass arguments to training loop function\n",
    "\n",
    "training_loop(...)"
   ]
  }
 ],
 "metadata": {
  "kernelspec": {
   "display_name": "Python 3.9.13 ('tf')",
   "language": "python",
   "name": "python3"
  },
  "language_info": {
   "name": "python",
   "version": "3.9.13"
  },
  "orig_nbformat": 4,
  "vscode": {
   "interpreter": {
    "hash": "54ff86533a6a943eb33cb0954e5964c6e356fb8134919fff31cf4713965c9c7c"
   }
  }
 },
 "nbformat": 4,
 "nbformat_minor": 2
}
